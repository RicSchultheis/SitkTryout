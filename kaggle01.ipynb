{
 "cells": [
  {
   "cell_type": "code",
   "execution_count": null,
   "metadata": {},
   "outputs": [],
   "source": [
    "for decode in decode_predictions(preds):\n",
    "    score=0\n",
    "    id=-1\n",
    "    for kind in decode:\n",
    "        if score<kind[2]:\n",
    "            score=kind[2]\n",
    "            id=\n",
    "            "
   ]
  },
  {
   "cell_type": "code",
   "execution_count": null,
   "metadata": {},
   "outputs": [],
   "source": [
    "hotDogList=list\n",
    "for decode in decode_predictions(preds):\n",
    "    scoreList=list\n",
    "    for kind in decode:\n",
    "        scoreList.append(kind[2])\n",
    "    index=scoreList.index(max(scoreList))\n",
    "    if 'hotdog' in decode[index]:\n",
    "        hotDogList.append(decode_predictions(preds).index(decode))"
   ]
  }
 ],
 "metadata": {
  "kernelspec": {
   "display_name": "Python 3",
   "language": "python",
   "name": "python3"
  },
  "language_info": {
   "codemirror_mode": {
    "name": "ipython",
    "version": 3
   },
   "file_extension": ".py",
   "mimetype": "text/x-python",
   "name": "python",
   "nbconvert_exporter": "python",
   "pygments_lexer": "ipython3",
   "version": "3.7.4"
  }
 },
 "nbformat": 4,
 "nbformat_minor": 4
}
